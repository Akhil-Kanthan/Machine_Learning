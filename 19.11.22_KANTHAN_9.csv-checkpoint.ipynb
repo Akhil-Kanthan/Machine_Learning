{
 "cells": [
  {
   "cell_type": "code",
   "execution_count": 331,
   "id": "4b72a9d0",
   "metadata": {},
   "outputs": [],
   "source": [
    "import pandas as pd\n",
    "import numpy as np\n",
    "import statistics as stat\n",
    "import scipy.stats as statss\n",
    "import matplotlib.pyplot as plt\n",
    "from sklearn.linear_model import LinearRegression\n",
    "import seaborn as sns"
   ]
  },
  {
   "cell_type": "markdown",
   "id": "3ed2b7d1",
   "metadata": {},
   "source": [
    "  DATA CLEANING"
   ]
  },
  {
   "cell_type": "code",
   "execution_count": 332,
   "id": "1ab4e55b",
   "metadata": {},
   "outputs": [],
   "source": [
    "# Importing the given csv data and skipping unused rows"
   ]
  },
  {
   "cell_type": "code",
   "execution_count": 333,
   "id": "b017aea3",
   "metadata": {},
   "outputs": [
    {
     "name": "stderr",
     "output_type": "stream",
     "text": [
      "C:\\Users\\jyoth\\AppData\\Local\\Temp\\ipykernel_25116\\3719485160.py:1: ParserWarning: Falling back to the 'python' engine because the 'c' engine does not support skipfooter; you can avoid this warning by specifying engine='python'.\n",
      "  data = pd.read_csv('9.csv',sep=';',header = 3,skipfooter=7,skiprows=range(62,75),\n"
     ]
    },
    {
     "data": {
      "text/html": [
       "<div>\n",
       "<style scoped>\n",
       "    .dataframe tbody tr th:only-of-type {\n",
       "        vertical-align: middle;\n",
       "    }\n",
       "\n",
       "    .dataframe tbody tr th {\n",
       "        vertical-align: top;\n",
       "    }\n",
       "\n",
       "    .dataframe thead th {\n",
       "        text-align: right;\n",
       "    }\n",
       "</style>\n",
       "<table border=\"1\" class=\"dataframe\">\n",
       "  <thead>\n",
       "    <tr style=\"text-align: right;\">\n",
       "      <th></th>\n",
       "      <th>Jahr</th>\n",
       "      <th>Endenergieverbrauch insgesamt</th>\n",
       "      <th>Steinkohlen</th>\n",
       "      <th>Braunokohlen2)</th>\n",
       "      <th>Heizöl leicht</th>\n",
       "      <th>Heizöl schwer</th>\n",
       "      <th>Erdgas und Erdölgas</th>\n",
       "      <th>Strom</th>\n",
       "      <th>Fernwärme</th>\n",
       "      <th>Sonstige Energieträger</th>\n",
       "    </tr>\n",
       "  </thead>\n",
       "  <tbody>\n",
       "    <tr>\n",
       "      <th>0</th>\n",
       "      <td>1965</td>\n",
       "      <td>199.970</td>\n",
       "      <td>55.134</td>\n",
       "      <td>1.769</td>\n",
       "      <td>30.662</td>\n",
       "      <td>59.782</td>\n",
       "      <td>4.223</td>\n",
       "      <td>37.033</td>\n",
       "      <td>4.643</td>\n",
       "      <td>6.724</td>\n",
       "    </tr>\n",
       "    <tr>\n",
       "      <th>1</th>\n",
       "      <td>1966</td>\n",
       "      <td>205.379</td>\n",
       "      <td>42.698</td>\n",
       "      <td>2.156</td>\n",
       "      <td>31.815</td>\n",
       "      <td>70.081</td>\n",
       "      <td>4.352</td>\n",
       "      <td>38.257</td>\n",
       "      <td>4.740</td>\n",
       "      <td>11.280</td>\n",
       "    </tr>\n",
       "    <tr>\n",
       "      <th>2</th>\n",
       "      <td>1967</td>\n",
       "      <td>196.123</td>\n",
       "      <td>32.565</td>\n",
       "      <td>1.786</td>\n",
       "      <td>33.481</td>\n",
       "      <td>70.450</td>\n",
       "      <td>4.337</td>\n",
       "      <td>38.650</td>\n",
       "      <td>5.573</td>\n",
       "      <td>9.281</td>\n",
       "    </tr>\n",
       "    <tr>\n",
       "      <th>3</th>\n",
       "      <td>1968</td>\n",
       "      <td>212.939</td>\n",
       "      <td>32.202</td>\n",
       "      <td>1.557</td>\n",
       "      <td>38.221</td>\n",
       "      <td>76.646</td>\n",
       "      <td>4.676</td>\n",
       "      <td>42.574</td>\n",
       "      <td>4.158</td>\n",
       "      <td>12.905</td>\n",
       "    </tr>\n",
       "    <tr>\n",
       "      <th>4</th>\n",
       "      <td>1969</td>\n",
       "      <td>233.761</td>\n",
       "      <td>30.587</td>\n",
       "      <td>1.377</td>\n",
       "      <td>43.388</td>\n",
       "      <td>86.617</td>\n",
       "      <td>4.734</td>\n",
       "      <td>47.254</td>\n",
       "      <td>5.326</td>\n",
       "      <td>14.478</td>\n",
       "    </tr>\n",
       "  </tbody>\n",
       "</table>\n",
       "</div>"
      ],
      "text/plain": [
       "   Jahr  Endenergieverbrauch insgesamt  Steinkohlen  Braunokohlen2)  \\\n",
       "0  1965                        199.970       55.134           1.769   \n",
       "1  1966                        205.379       42.698           2.156   \n",
       "2  1967                        196.123       32.565           1.786   \n",
       "3  1968                        212.939       32.202           1.557   \n",
       "4  1969                        233.761       30.587           1.377   \n",
       "\n",
       "   Heizöl leicht  Heizöl schwer  Erdgas und Erdölgas   Strom  Fernwärme  \\\n",
       "0         30.662         59.782                4.223  37.033      4.643   \n",
       "1         31.815         70.081                4.352  38.257      4.740   \n",
       "2         33.481         70.450                4.337  38.650      5.573   \n",
       "3         38.221         76.646                4.676  42.574      4.158   \n",
       "4         43.388         86.617                4.734  47.254      5.326   \n",
       "\n",
       "   Sonstige Energieträger  \n",
       "0                   6.724  \n",
       "1                  11.280  \n",
       "2                   9.281  \n",
       "3                  12.905  \n",
       "4                  14.478  "
      ]
     },
     "execution_count": 333,
     "metadata": {},
     "output_type": "execute_result"
    }
   ],
   "source": [
    "data = pd.read_csv('9.csv',sep=';',header = 3,skipfooter=7,skiprows=range(62,75),\n",
    "                names=['Jahr', 'Endenergieverbrauch insgesamt','Steinkohlen','Braunokohlen2)','Heizöl leicht', 'Heizöl schwer','Erdgas und Erdölgas','Strom','Fernwärme','Sonstige Energieträger'])\n",
    "data.head()"
   ]
  },
  {
   "cell_type": "markdown",
   "id": "25d8d5a2",
   "metadata": {},
   "source": [
    "DISCRIPTIVE STATISTICS"
   ]
  },
  {
   "cell_type": "code",
   "execution_count": 334,
   "id": "b2859191",
   "metadata": {},
   "outputs": [
    {
     "data": {
      "text/plain": [
       "229.8325"
      ]
     },
     "execution_count": 334,
     "metadata": {},
     "output_type": "execute_result"
    }
   ],
   "source": [
    "#data1=data.drop(range(56,113))\n",
    "#print(data1)\n",
    "#data['Davon'] = data['Davon'].astype(float)\n",
    "data1['Endenergieverbrauch insgesamt'].mean()          # For the mean"
   ]
  },
  {
   "cell_type": "code",
   "execution_count": 335,
   "id": "e5666846",
   "metadata": {},
   "outputs": [],
   "source": [
    "mean=data1['Steinkohlen'].mean()"
   ]
  },
  {
   "cell_type": "code",
   "execution_count": 336,
   "id": "55e60770",
   "metadata": {},
   "outputs": [
    {
     "data": {
      "text/plain": [
       "10.448284702570755"
      ]
     },
     "execution_count": 336,
     "metadata": {},
     "output_type": "execute_result"
    }
   ],
   "source": [
    "data1['Steinkohlen'].std()          # For the Standard deviation"
   ]
  },
  {
   "cell_type": "code",
   "execution_count": 337,
   "id": "8b8cc947",
   "metadata": {},
   "outputs": [
    {
     "data": {
      "text/plain": [
       "12.7645"
      ]
     },
     "execution_count": 337,
     "metadata": {},
     "output_type": "execute_result"
    }
   ],
   "source": [
    "data1['Steinkohlen'].median()       # For the median"
   ]
  },
  {
   "cell_type": "code",
   "execution_count": 338,
   "id": "62e857ad",
   "metadata": {},
   "outputs": [
    {
     "data": {
      "text/plain": [
       "2.799"
      ]
     },
     "execution_count": 338,
     "metadata": {},
     "output_type": "execute_result"
    }
   ],
   "source": [
    "data1['Steinkohlen'].min()          # For Minimum value"
   ]
  },
  {
   "cell_type": "code",
   "execution_count": 339,
   "id": "6abcff51",
   "metadata": {},
   "outputs": [
    {
     "data": {
      "text/plain": [
       "55.134"
      ]
     },
     "execution_count": 339,
     "metadata": {},
     "output_type": "execute_result"
    }
   ],
   "source": [
    "data1['Steinkohlen'].max()          # For Maximum Value"
   ]
  },
  {
   "cell_type": "code",
   "execution_count": 340,
   "id": "4fde681b",
   "metadata": {},
   "outputs": [
    {
     "data": {
      "text/plain": [
       "52.335"
      ]
     },
     "execution_count": 340,
     "metadata": {},
     "output_type": "execute_result"
    }
   ],
   "source": [
    "data1['Steinkohlen'].max()-data1['Steinkohlen'].min()      # For the Difference"
   ]
  },
  {
   "cell_type": "markdown",
   "id": "d3e4325f",
   "metadata": {},
   "source": [
    "VISUALISATION"
   ]
  },
  {
   "cell_type": "code",
   "execution_count": 341,
   "id": "abe94cfe",
   "metadata": {},
   "outputs": [
    {
     "data": {
      "text/plain": [
       "<AxesSubplot:>"
      ]
     },
     "execution_count": 341,
     "metadata": {},
     "output_type": "execute_result"
    },
    {
     "data": {
      "image/png": "[encoded data removed]",
      "text/plain": [
       "<Figure size 432x288 with 1 Axes>"
      ]
     },
     "metadata": {
      "needs_background": "light"
     },
     "output_type": "display_data"
    }
   ],
   "source": [
    "data1['Steinkohlen'].hist()        # For plotting the histogram"
   ]
  },
  {
   "cell_type": "code",
   "execution_count": 342,
   "id": "eaa71ea9",
   "metadata": {},
   "outputs": [
    {
     "name": "stderr",
     "output_type": "stream",
     "text": [
      "C:\\Users\\jyoth\\anaconda3\\lib\\site-packages\\seaborn\\distributions.py:2619: FutureWarning: `distplot` is a deprecated function and will be removed in a future version. Please adapt your code to use either `displot` (a figure-level function with similar flexibility) or `histplot` (an axes-level function for histograms).\n",
      "  warnings.warn(msg, FutureWarning)\n"
     ]
    },
    {
     "data": {
      "text/plain": [
       "[Text(0.5, 0, 'X'), Text(0, 0.5, 'Frequency')]"
      ]
     },
     "execution_count": 342,
     "metadata": {},
     "output_type": "execute_result"
    },
    {
     "data": {
      "image/png": "[encoded data removed]",
      "text/plain": [
       "<Figure size 432x288 with 1 Axes>"
      ]
     },
     "metadata": {
      "needs_background": "light"
     },
     "output_type": "display_data"
    }
   ],
   "source": [
    "ax = sns.distplot(data1['Steinkohlen'],       # Checking if the dependent variable follows a normal distribution.                         \n",
    "                  bins=20,\n",
    "                  kde=True,\n",
    "                  color='red',\n",
    "                  hist_kws={\"linewidth\": 15,'alpha':1})\n",
    "ax.set(xlabel='X', ylabel='Frequency')"
   ]
  },
  {
   "cell_type": "markdown",
   "id": "1ebc269a",
   "metadata": {},
   "source": [
    "HYPOTHESIS TEST"
   ]
  },
  {
   "cell_type": "code",
   "execution_count": 343,
   "id": "ed5c3a13",
   "metadata": {},
   "outputs": [
    {
     "data": {
      "text/plain": [
       "Ttest_1sampResult(statistic=-1.3968505356583139, pvalue=0.17305726241135483)"
      ]
     },
     "execution_count": 343,
     "metadata": {},
     "output_type": "execute_result"
    }
   ],
   "source": [
    "\n",
    "\n",
    "sample=np.random.choice(data1['Steinkohlen'],30)                #Suppose we wish to test the null hypothesis that the mean of a \n",
    "                                                            #population is equal to 0.5. We choose a confidence level of 99%; \n",
    "                                                            #that is, we will reject the null hypothesis in favor of the \n",
    "                                                                   #alternative if the p-value is less than 0.01.\n",
    "\n",
    "statss.ttest_1samp(a=sample,popmean=data1['Steinkohlen'].mean())   # To calculate the T-test for the mean of ONE group of scores\n"
   ]
  },
  {
   "cell_type": "code",
   "execution_count": 344,
   "id": "05add790",
   "metadata": {},
   "outputs": [
    {
     "data": {
      "text/plain": [
       "-2.0452296421327034"
      ]
     },
     "execution_count": 344,
     "metadata": {},
     "output_type": "execute_result"
    }
   ],
   "source": [
    "statss.t.ppf(q=0.025,df=29)"
   ]
  },
  {
   "cell_type": "code",
   "execution_count": 345,
   "id": "7b1e69e5",
   "metadata": {},
   "outputs": [
    {
     "data": {
      "text/plain": [
       "2.045229642132703"
      ]
     },
     "execution_count": 345,
     "metadata": {},
     "output_type": "execute_result"
    }
   ],
   "source": [
    "statss.t.ppf(q=0.975,df=29)"
   ]
  },
  {
   "cell_type": "code",
   "execution_count": 350,
   "id": "753646bf",
   "metadata": {},
   "outputs": [
    {
     "data": {
      "text/plain": [
       "0.17305726241135483"
      ]
     },
     "execution_count": 350,
     "metadata": {},
     "output_type": "execute_result"
    }
   ],
   "source": [
    "statss.t.cdf(x=-1.3968505356583139,df=29)*2         # Multiplying by 2 for two tail test "
   ]
  },
  {
   "cell_type": "code",
   "execution_count": 347,
   "id": "6957c87a",
   "metadata": {},
   "outputs": [],
   "source": [
    "# My statistics (-0.44630640657692494)  is within the range (-2.0452296421327034 to 2.045229642132703),therfore\n",
    "# the null hypothesis has failed to be rejected."
   ]
  },
  {
   "cell_type": "markdown",
   "id": "7e19718b",
   "metadata": {},
   "source": [
    "LINEAR REGRESSION"
   ]
  },
  {
   "cell_type": "code",
   "execution_count": 348,
   "id": "6160ed40",
   "metadata": {},
   "outputs": [],
   "source": [
    "sample1=data1['Endenergieverbrauch insgesamt']\n",
    "sample2=data1['Steinkohlen']\n",
    "y1=np.array(sample1)\n",
    "y2=np.array(sample2)\n"
   ]
  },
  {
   "cell_type": "code",
   "execution_count": 349,
   "id": "4247d7b2",
   "metadata": {},
   "outputs": [
    {
     "name": "stdout",
     "output_type": "stream",
     "text": [
      "R^2: 0.034503530528533444\n",
      "R^2: 0.0345035305285335\n"
     ]
    },
    {
     "data": {
      "image/png": "[encoded data removed]",
      "text/plain": [
       "<Figure size 381.6x331.2 with 1 Axes>"
      ]
     },
     "metadata": {
      "needs_background": "light"
     },
     "output_type": "display_data"
    }
   ],
   "source": [
    "data_x = y1\n",
    "data_y =y2\n",
    "\n",
    "\n",
    "\n",
    "model = LinearRegression()\n",
    "model.fit(data_x.reshape(-1, 1), data_y)\n",
    "\n",
    "intercept = model.intercept_                                                # To find the value of constant (c)\n",
    "slope = model.coef_                                                         # To find the value of coefficient (m)\n",
    "\n",
    "x = np.linspace(np.min(data_x),np.max(data_x),10)\n",
    "y = slope*x+intercept                                                       # Slope : y=mX + C\n",
    "                                                                              \n",
    "tss = np.sum((data_y - np.mean(data_y))**2)                                 # For finding total variation around the mean\n",
    "rss = np.sum((data_y - slope*data_x - intercept)**2)               # For finding the variation around line of the best fit  \n",
    "\n",
    "print(r\"R^2:\",(tss - rss)/tss)\n",
    "print(f\"R^2: {model.score(data_x.reshape(-1,1), data_y)}\")\n",
    "\n",
    "fig, ax = plt.subplots(1, 1, figsize=(5.3, 4.6), sharey=True)\n",
    "\n",
    "ax.scatter(data_x, data_y, label=\"original data\", zorder=3)\n",
    "ax.plot(x, y, color = 'tab:red', lw=3, label = \"fitted line\")\n",
    "\n",
    "\n",
    "for i in np.arange(0, 15):\n",
    "    ax.plot(np.array([data_x[i],data_x[i]], dtype=object), np.array([data_y[i], slope*data_x[i]+intercept],dtype=object), lw=1, color = 'tab:orange')\n",
    "\n",
    "ax.set_xlabel('Endenergieverbrauch insgesamt')\n",
    "ax.set_ylabel('Steinkohlen')\n",
    "ax.set_title(r\"$R^2:$\" + f\"{round((tss - rss)/tss,3)}\" + r\", $RSS$:\" + f\"{round(rss,3)}\" + r\", $TSS:$\" + f\"{round(tss,3)}\")\n",
    "\n",
    "ax.legend()\n",
    "\n",
    "plt.tight_layout()\n",
    "plt.show()"
   ]
  },
  {
   "cell_type": "markdown",
   "id": "80fc34f9",
   "metadata": {},
   "source": [
    "CONCLUSION"
   ]
  },
  {
   "cell_type": "code",
   "execution_count": null,
   "id": "80566dce",
   "metadata": {},
   "outputs": [],
   "source": [
    "With the help of the imported data sheet we have found mean, median, standard deviation, minimum, maximum, difference\n",
    "and plotted a histogram.We have also found the p value by Hypothesis testing (with one sample T-test), and fail to reject the\n",
    "null hypothesis with confidence of 97.5%. We have also done the Linear Regression and formed a slope and found accuracy of \n",
    "regression model.  "
   ]
  },
  {
   "cell_type": "markdown",
   "id": "e4309b61",
   "metadata": {},
   "source": [
    "                                         - END -"
   ]
  }
 ],
 "metadata": {
  "kernelspec": {
   "display_name": "Python 3 (ipykernel)",
   "language": "python",
   "name": "python3"
  },
  "language_info": {
   "codemirror_mode": {
    "name": "ipython",
    "version": 3
   },
   "file_extension": ".py",
   "mimetype": "text/x-python",
   "name": "python",
   "nbconvert_exporter": "python",
   "pygments_lexer": "ipython3",
   "version": "3.9.12"
  }
 },
 "nbformat": 4,
 "nbformat_minor": 5
}
